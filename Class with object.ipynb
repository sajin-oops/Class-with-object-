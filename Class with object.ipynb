{
 "cells": [
  {
   "cell_type": "code",
   "execution_count": 3,
   "id": "74e6ff31-87b1-4402-8908-64975059f081",
   "metadata": {},
   "outputs": [
    {
     "name": "stdout",
     "output_type": "stream",
     "text": [
      "Milo says woof!\n",
      "Milo is a 1 year old Canis familiaris\n"
     ]
    }
   ],
   "source": [
    "class Dog:\n",
    "    species = \"Canis familiaris\"\n",
    "    def __init__(self,name,age):\n",
    "        self.name = name\n",
    "        self.age = age\n",
    "    def bark(self):\n",
    "        return f\"{self.name} says woof!\"\n",
    "    def describe(self):\n",
    "        return f\"{self.name} is a {self.age} year old {self.species}\"\n",
    "\n",
    "\n",
    "# Creating objects\n",
    "dog1 = Dog(\"Milo\", 1)\n",
    "\n",
    "\n",
    "# Calling methods on the objects\n",
    "print(dog1.bark())\n",
    "print(dog1.describe())"
   ]
  },
  {
   "cell_type": "code",
   "execution_count": null,
   "id": "1a46e009-5a90-4d50-ae4e-6eb528c594c1",
   "metadata": {},
   "outputs": [],
   "source": []
  }
 ],
 "metadata": {
  "kernelspec": {
   "display_name": "Python 3 (ipykernel)",
   "language": "python",
   "name": "python3"
  },
  "language_info": {
   "codemirror_mode": {
    "name": "ipython",
    "version": 3
   },
   "file_extension": ".py",
   "mimetype": "text/x-python",
   "name": "python",
   "nbconvert_exporter": "python",
   "pygments_lexer": "ipython3",
   "version": "3.12.7"
  },
  "widgets": {
   "application/vnd.jupyter.widget-state+json": {
    "state": {},
    "version_major": 2,
    "version_minor": 0
   }
  }
 },
 "nbformat": 4,
 "nbformat_minor": 5
}
